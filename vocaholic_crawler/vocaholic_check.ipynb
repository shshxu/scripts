{
 "cells": [
  {
   "cell_type": "code",
   "execution_count": 1,
   "metadata": {},
   "outputs": [],
   "source": [
    "from bs4 import BeautifulSoup\n",
    "import time\n",
    "from selenium import webdriver\n",
    "import requests\n",
    "import lxml.html as lh\n",
    "import re\n",
    "import os\n",
    "import pandas as pd\n",
    "import numpy as np\n",
    "from distutils.version import LooseVersion\n",
    "from distutils.version import StrictVersion\n"
   ]
  },
  {
   "cell_type": "code",
   "execution_count": 2,
   "metadata": {},
   "outputs": [],
   "source": [
    "####change the language name\n"
   ]
  },
  {
   "cell_type": "code",
   "execution_count": 4,
   "metadata": {},
   "outputs": [],
   "source": [
    "#crawl the vocaholic web page\n",
    "def vocaholic_crawler(lan):\n",
    "    url= \"http://aac-srvtts-tools.nuance.com/vocaholic/fe/release/?language=\" + lan\n",
    "    #url=urlv+lan\n",
    "    browser = webdriver.Chrome()\n",
    "\n",
    "    browser.get(url)\n",
    "    time.sleep(3)\n",
    "    html = browser.page_source\n",
    "    soup = BeautifulSoup(html, \"lxml\")\n",
    "\n",
    "    #print(len(soup.find_all(\"table\")))\n",
    "    table=soup.find(\"table\", {\"id\": \"myTable\"})\n",
    "    #print(table)\n",
    "\n",
    "    browser.close()\n",
    "    browser.quit()\n",
    "\n",
    "    #get the table\n",
    "    table_rows = table.find_all('tr')\n",
    "    rows=[]\n",
    "    for tr in table_rows:\n",
    "        td = tr.find_all('td')\n",
    "        row = [tr.text for tr in td]\n",
    "        rows.append(row)\n",
    "\n",
    "    cols=soup.find_all(\"th\")\n",
    "    col_names=[]\n",
    "    for th in cols:\n",
    "        col=th.text\n",
    "        col_names.append(col)\n",
    "    #print(col_names[:16])\n",
    "    #print(len(col_names[:16]))\n",
    "    cols = col_names[:17]\n",
    "    df=pd.DataFrame(rows[2:],columns=cols)\n",
    "    voices=list(set(df['Voice'].tolist()))\n",
    "    return voices, df\n",
    "\n",
    "    #cols=info_tr.findall('th')\n",
    "    #print(cols)"
   ]
  },
  {
   "cell_type": "code",
   "execution_count": 55,
   "metadata": {},
   "outputs": [
    {
     "name": "stdout",
     "output_type": "stream",
     "text": [
      "[u' frc_nicolas_embedded-high-2.0.0', u' frc_chantal_embedded-high-1.0.7', u' frc_amelie_embedded-high-1.0.5', u' frc_amelie-ml_embedded-high-1.0.3']\n"
     ]
    },
    {
     "name": "stderr",
     "output_type": "stream",
     "text": [
      "c:\\_tools\\python27\\lib\\site-packages\\ipykernel_launcher.py:16: UserWarning: Boolean Series key will be reindexed to match DataFrame index.\n",
      "  app.launch_new_instance()\n",
      "c:\\_tools\\python27\\lib\\site-packages\\ipykernel_launcher.py:17: UserWarning: Boolean Series key will be reindexed to match DataFrame index.\n"
     ]
    }
   ],
   "source": [
    "#get the list of vops with the latst FE \n",
    "def loop_voices(v):\n",
    "    fe_dict={}\n",
    "    i = 0\n",
    "    n = len(v)\n",
    "    while i <n:\n",
    "        df_v=df[df['Voice']==v[i]].replace('NA', np.nan)\n",
    "        #print(df_v.head())\n",
    "        fe_v= df_v['CLC Version'].max()\n",
    "        fe_dict[v[i]]=fe_v\n",
    "        i +=1\n",
    "        #print(fe_v)\n",
    "\n",
    "    #return fe_dict\n",
    "    vops=[]\n",
    "    for key, value in fe_dict.items():\n",
    "        pub_date=df[df['Voice']==key] [ df['CLC Version']==value][ 'Published Date'].max()\n",
    "        used=df[df['Voice']==key][df['Published Date']==pub_date]['Used In'].tolist()\n",
    "        uesd_in=used[0].split('\\n')\n",
    "        ehs = [v for v in uesd_in if ('_embedded-high-' in v) & ('-SNAPSHOT' not in v) ]\n",
    "        if len(ehs) == 0:\n",
    "            vops.append([v for v in uesd_in][1] )\n",
    "        else:\n",
    "            vops.append(ehs[-1])\n",
    "    #v=open(ver_path,'w+')\n",
    "    #v.writelines()\n",
    "    return vops\n",
    "        \n"
   ]
  },
  {
   "cell_type": "code",
   "execution_count": 50,
   "metadata": {},
   "outputs": [
    {
     "name": "stdout",
     "output_type": "stream",
     "text": [
      "['vop#spe#monica#22#embedded-high#1.2.3\\n', 'vop#spe#djingo#22#embedded-high#1.2.0\\n', 'vop#spe#monica-ml#22#embedded-high#2.1.3\\n', 'vop#spe#marisol-ml#22#embedded-high#3.0.0\\n', 'vop#spe#jorge#22#embedded-high#2.1.0\\n', 'vop#spe#marisol#22#embedded-high#2.0.0\\n']\n"
     ]
    }
   ],
   "source": [
    "#convert the vop names into versions.txt\n",
    "def vop_to_version(vop):\n",
    "    vop=str(vop.strip(' '))\n",
    "    num=vop.split('_')\n",
    "    v='vop#'+ num[0]+'#'+num[1]+'#22#'+num[2]\n",
    "    v=v.replace('-','#')\n",
    "    if 'embedded#' in v:\n",
    "        v=v.replace('embedded#','embedded-')\n",
    "    if '#ml'in v:\n",
    "        v=v.replace('#ml','-ml')\n",
    "    return v\n",
    "    \n",
    "#print(vop_to_version(vops_latest[2]))\n"
   ]
  },
  {
   "cell_type": "code",
   "execution_count": 5,
   "metadata": {},
   "outputs": [
    {
     "name": "stdout",
     "output_type": "stream",
     "text": [
      "[u'nicolas', u'chantal', u'amelie', u'amelie-ml']\n"
     ]
    }
   ],
   "source": [
    "if __name__ == '__main__':\n",
    "    lan=\"frc\"\n",
    "    v, df = vocaholic_crawler(lan)\n",
    "    df.to_csv('FE_check.csv',sep=';' ,index=False,encoding='utf-8_sig')\n",
    "    \n",
    "    vops_latest=loop_voices(v)\n",
    "    print(vops_latest)\n",
    "    \n",
    "    #save to the versions.txt\n",
    "    ver_path='C:\\_workspace\\\\ALD\\\\multiple_stage\\\\test\\\\versions.txt'    \n",
    "    version_lines=[vop_to_version(vops)+'\\n' for vops in vops_latest]\n",
    "    print(version_lines)\n",
    "    \n",
    "    versions=open(ver_path,'w+')\n",
    "    versions.writelines(version_lines)\n",
    "    versions.close()\n",
    "    \n",
    "    \n",
    "    #run stage.ext to the ref stages\n",
    "    cmd='stage '+ ver_path +' . --frontend_only yes'\n",
    "    os.system(cmd)\n"
   ]
  },
  {
   "cell_type": "code",
   "execution_count": 65,
   "metadata": {},
   "outputs": [
    {
     "data": {
      "text/plain": [
       "-1"
      ]
     },
     "execution_count": 65,
     "metadata": {},
     "output_type": "execute_result"
    }
   ],
   "source": [
    "def run_gendata(user_path, cfg):"
   ]
  },
  {
   "cell_type": "markdown",
   "metadata": {},
   "source": [
    "###########################\n",
    "INFO     :: # Command line:\n",
    " E:\\LBTools\\2.1.0\\bin\\gendata.exe -t sharedclc -l spe -v marisol-ml -c cfg3 -o E:\\Users\\Shanshan.Xu\\builds\\\\SPE\\Marisol-ml\\cfg3 -s E:\\Users\\Shanshan.Xu\\hg\\clc --ignore-errors\n",
    " \n",
    "############################\n",
    "\n",
    "to do:\n",
    "    1. set the batch\n",
    "    2. get the target stages\n",
    "    3. deleted unwanted files."
   ]
  },
  {
   "cell_type": "code",
   "execution_count": 19,
   "metadata": {},
   "outputs": [
    {
     "name": "stdout",
     "output_type": "stream",
     "text": [
      "E:\\Users\\Shanshan.Xu\\builds\\frc\\amelie-ml\\cfg3\n",
      "E:\\LBTools\\2.1.0\\bin\\gendata.exe -t sharedclc -l frc -v amelie-ml -c cfg3 -o E:\\Users\\Shanshan.Xu\\builds\\frc\\amelie-ml\\cfg3 -s E:\\Users\\Shanshan.Xu\\hg\\clc --ignore-errors\n"
     ]
    }
   ],
   "source": [
    "voice = 'amelie-ml'\n",
    "user_path=r'E:\\Users\\Shanshan.Xu'\n",
    "clc_path = os.path.join(user_path,'hg','clc')\n",
    "cfg='cfg3'\n",
    "output_path= os.path.join(user_path, 'builds', lan,voice,cfg)\n",
    "print output_path\n",
    "cmd = r'E:\\LBTools\\2.1.0\\bin\\gendata.exe -t sharedclc -l ' +  lan + ' -v ' + voice + r' -c ' + cfg + ' -o ' + output_path + ' -s ' + clc_path + ' --ignore-errors'\n",
    "print cmd"
   ]
  },
  {
   "cell_type": "code",
   "execution_count": null,
   "metadata": {},
   "outputs": [],
   "source": [
    "l=os.listdir()"
   ]
  }
 ],
 "metadata": {
  "kernelspec": {
   "display_name": "Python 2",
   "language": "python",
   "name": "python2"
  },
  "language_info": {
   "codemirror_mode": {
    "name": "ipython",
    "version": 2
   },
   "file_extension": ".py",
   "mimetype": "text/x-python",
   "name": "python",
   "nbconvert_exporter": "python",
   "pygments_lexer": "ipython2",
   "version": "2.7.13"
  }
 },
 "nbformat": 4,
 "nbformat_minor": 2
}
