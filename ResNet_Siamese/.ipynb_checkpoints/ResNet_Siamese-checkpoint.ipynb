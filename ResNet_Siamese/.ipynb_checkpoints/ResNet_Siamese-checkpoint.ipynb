{
 "cells": [
  {
   "cell_type": "markdown",
   "metadata": {},
   "source": [
    "# Introduction\n",
    "\n",
    "Checking the results of regression test is one of the most challenging TX tasks. This task is even harder when we have a stage or vop update. We have then to classifer the 'ok' regressions (minimal changes like pause or frequency) and 'nok' regressions (true 'fails').\n",
    "For such tasks we trained a deep convolutional model with Siamese network to classify the 'ok' and 'nok' regressions. Siamese networks are twin networks with shared weights, which can be trained to learn a feature space where similar observations are placed in proximity. "
   ]
  },
  {
   "cell_type": "code",
   "execution_count": null,
   "metadata": {
    "colab": {
     "base_uri": "https://localhost:8080/",
     "height": 139
    },
    "colab_type": "code",
    "id": "T16PxRyz-0q6",
    "outputId": "4a3890fa-4deb-491a-bed8-bbc51ad58352"
   },
   "outputs": [],
   "source": [
    "import numpy as np\n",
    "import keras\n",
    "from keras import layers\n",
    "from keras.layers import Input, Add, Dense, Activation, ZeroPadding2D, BatchNormalization, Flatten, Conv2D, AveragePooling2D, MaxPooling2D, GlobalMaxPooling2D, Lambda\n",
    "from keras.models import Model, load_model\n",
    "from keras.preprocessing import image\n",
    "from keras.utils import layer_utils\n",
    "from keras.utils.data_utils import get_file\n",
    "from keras.applications.imagenet_utils import preprocess_input\n",
    "from keras.utils.vis_utils import model_to_dot\n",
    "from keras.utils import plot_model\n",
    "from keras.initializers import glorot_uniform\n",
    "from matplotlib.pyplot import imshow\n",
    "%matplotlib inline\n",
    "import  os, glob, keras,librosa\n",
    "import sklearn\n",
    "import numpy as np\n",
    "from sklearn.model_selection import train_test_split\n",
    "\n",
    "import keras.backend as K\n",
    "K.set_image_data_format('channels_last')\n",
    "K.set_learning_phase(1)"
   ]
  },
  {
   "cell_type": "markdown",
   "metadata": {
    "colab_type": "text",
    "id": "Sg4DB4GuBLH-"
   },
   "source": [
    "## Load the npy file and transfer the data"
   ]
  },
  {
   "cell_type": "code",
   "execution_count": null,
   "metadata": {
    "colab": {},
    "colab_type": "code",
    "id": "CVEv7rxNEfDG"
   },
   "outputs": [],
   "source": [
    "def data_transfer(npy, datatype):\n",
    "    X_orig = npy\n",
    "    #X = np.reshape(X_orig,(X_orig.shape[0],X_orig.shape[1],X_orig.shape[2],X_orig.shape[3],1))\n",
    "    if datatype == 'ok':\n",
    "        labels = np.ones((X_orig.shape[0],1))\n",
    "    else:\n",
    "        labels = np.zeros((X_orig.shape[0],1))\n",
    "    Y = keras.utils.to_categorical(labels,num_classes=2)\n",
    "    return (X_orig,Y)\n",
    "\n",
    "def create_train_test(X_array, Y_array, split_percentage):\n",
    "    X_train, X_test, Y_train, Y_test = train_test_split(X_array, Y_array, test_size=split_percentage)\n",
    "\n",
    "    return X_train, X_test, Y_train, Y_test\n",
    "\n",
    "\n",
    "x_ok_cur = np.load(\"ok_cur.npy\")\n",
    "x_nok_cur = np.load(\"nok_cur.npy\")\n",
    "x_ok_pre = np.load(\"ok_pre.npy\")\n",
    "x_nok_pre = np.load(\"nok_pre.npy\")\n",
    "\n",
    "X_nok = np.stack((x_nok_pre, x_nok_cur),axis= 3)\n",
    "X_ok = np.stack((x_ok_pre, x_ok_cur),axis= 3)\n",
    "\n",
    "X_nok, Y_nok = data_transfer(X_nok, 'nok')\n",
    "X_ok, Y_ok = data_transfer(X_ok, 'ok')\n",
    "print(X_ok.shape, Y_ok.shape)\n",
    "print(X_nok.shape, Y_nok.shape)\n",
    "\n",
    "X = np.concatenate((X_ok,X_nok),axis = 0)\n",
    "Y = np.concatenate((Y_ok,Y_nok),axis = 0)\n",
    "\n",
    "print(X.shape, Y.shape)\n",
    "\n",
    "X_train, X_test, Y_train, Y_test = create_train_test(X, Y, 0.05)\n",
    "\n",
    "def split_pair(X_toSplit):\n",
    "  \n",
    "  X_pair = [np.reshape(X_toSplit[:,:,:,0],(-1,128,600,1)), np.reshape(X_toSplit[:,:,:,1],(-1,128,600,1))]\n",
    "  print(X_pair[0].shape)\n",
    "  return X_pair\n",
    "\n",
    "X_train_pair = split_pair(X_train)\n",
    "X_test_pair = split_pair(X_test)"
   ]
  },
  {
   "cell_type": "markdown",
   "metadata": {
    "colab_type": "text",
    "id": "u_3DPoLwBt6s"
   },
   "source": [
    "## Here begins the model \n",
    "1. Structure of the identity_block \n",
    "\n",
    "![identity_block](files/picture2.png)\n",
    "(Andrew Ng: Convolutional Neural Networks - Coursera\n",
    "https://www.coursera.org/learn/convolutional-neural-networks/home/week/2)"
   ]
  },
  {
   "cell_type": "code",
   "execution_count": null,
   "metadata": {
    "colab": {},
    "colab_type": "code",
    "id": "l3UvNsRFvt5x"
   },
   "outputs": [],
   "source": [
    "def identity_block(X,resName, f, filters, stage, block):\n",
    "    \"\"\"\n",
    "    Implementation of the identity block as defined in Figure 4\n",
    "    \n",
    "    Arguments:\n",
    "    X -- input tensor of shape (m, n_H_prev, n_W_prev, n_C_prev)\n",
    "    f -- integer, specifying the shape of the middle CONV's window for the main path\n",
    "    filters -- python list of integers, defining the number of filters in the CONV layers of the main path\n",
    "    stage -- integer, used to name the layers, depending on their position in the network\n",
    "    block -- string/character, used to name the layers, depending on their position in the network\n",
    "    \n",
    "    Returns:\n",
    "    X -- output of the identity block, tensor of shape (n_H, n_W, n_C)\n",
    "    \"\"\"\n",
    "    \n",
    "    # defining name basis\n",
    "    conv_name_base = 'res' + str(stage) + block + '_branch' + resName\n",
    "    bn_name_base = 'bn' + str(stage) + block + '_branch' + resName\n",
    "    \n",
    "    # Retrieve Filters\n",
    "    F1, F2, F3 = filters\n",
    "    \n",
    "    # Save the input value. You'll need this later to add back to the main path. \n",
    "    X_shortcut = X\n",
    "    \n",
    "    # First component of main path\n",
    "    X = Conv2D(filters = F1, kernel_size = (1, 1), strides = (1,1), padding = 'valid', name = conv_name_base + '2a', kernel_initializer = keras.initializers.glorot_uniform(seed=0))(X)\n",
    "    X = BatchNormalization(axis = 3, name = bn_name_base + '2a')(X)\n",
    "    X = Activation('relu')(X)\n",
    "    \n",
    "    ### START CODE HERE ###\n",
    "    \n",
    "    # Second component of main path (≈3 lines)\n",
    "    X = Conv2D(filters = F2, kernel_size = (f, f), strides = (1,1), padding = 'same', name = conv_name_base + '2b', kernel_initializer = keras.initializers.glorot_uniform(seed=0))(X)\n",
    "    X = BatchNormalization(axis = 3, name = bn_name_base + '2b')(X)\n",
    "    X = Activation('relu')(X)\n",
    "\n",
    "    # Third component of main path (≈2 lines)\n",
    "    X = Conv2D(filters = F3, kernel_size = (1, 1), strides = (1,1), padding = 'valid', name = conv_name_base + '2c', kernel_initializer = keras.initializers.glorot_uniform(seed=0))(X)\n",
    "    X = BatchNormalization(axis = 3, name = bn_name_base + '2c')(X)\n",
    "\n",
    "    # Final step: Add shortcut value to main path, and pass it through a RELU activation (≈2 lines)\n",
    "    X = Add()([X, X_shortcut]) \n",
    "    X = Activation('relu')(X)\n",
    "    \n",
    "    ### END CODE HERE ###\n",
    "    \n",
    "    return X"
   ]
  },
  {
   "cell_type": "markdown",
   "metadata": {},
   "source": [
    "#### 2. Structure of the convolutional_block \n",
    "![convolutional_block](files/picture3.png)\n",
    "(Andrew Ng: Convolutional Neural Networks - Coursera\n",
    "https://www.coursera.org/learn/convolutional-neural-networks/home/week/2)"
   ]
  },
  {
   "cell_type": "code",
   "execution_count": null,
   "metadata": {
    "colab": {},
    "colab_type": "code",
    "id": "bTRg9LojF1yP"
   },
   "outputs": [],
   "source": [
    "# GRADED FUNCTION: convolutional_block\n",
    "\n",
    "def convolutional_block(X, resName, f, filters, stage, block, s = 1):\n",
    "    \"\"\"\n",
    "    \n",
    "    \n",
    "    Arguments:\n",
    "    X -- input tensor of shape (m, n_H_prev, n_W_prev, n_C_prev)\n",
    "    f -- integer, specifying the shape of the middle CONV's window for the main path\n",
    "    filters -- python list of integers, defining the number of filters in the CONV layers of the main path\n",
    "    stage -- integer, used to name the layers, depending on their position in the network\n",
    "    block -- string/character, used to name the layers, depending on their position in the network\n",
    "    s -- Integer, specifying the stride to be used\n",
    "    \n",
    "    Returns:\n",
    "    X -- output of the convolutional block, tensor of shape (n_H, n_W, n_C)\n",
    "    \"\"\"\n",
    "    \n",
    "    # defining name basis\n",
    "    conv_name_base = 'res' + str(stage) + block + '_branch' + resName\n",
    "    bn_name_base = 'bn' + str(stage) + block + '_branch' + resName\n",
    "    \n",
    "    # Retrieve Filters\n",
    "    F1, F2, F3 = filters\n",
    "    \n",
    "    # Save the input value\n",
    "    X_shortcut = X\n",
    "\n",
    "\n",
    "    ##### MAIN PATH #####\n",
    "    # First component of main path \n",
    "    X = Conv2D(F1, (1, 1), strides = (s,s), name = conv_name_base + '2a', padding='valid', kernel_initializer = keras.initializers.glorot_uniform(seed=0))(X)\n",
    "    X = BatchNormalization(axis = 3, name = bn_name_base + '2a')(X)\n",
    "    X = Activation('relu')(X)\n",
    "    \n",
    "    ### START CODE HERE ###\n",
    "\n",
    "    # Second component of main path (≈3 lines)\n",
    "    X = Conv2D(filters =F2, kernel_size =(f, f), strides = (1,1), padding = 'same', name = conv_name_base + '2b', kernel_initializer = keras.initializers.glorot_uniform(seed=0))(X)\n",
    "    X = BatchNormalization(axis = 3, name = bn_name_base + '2b')(X)\n",
    "    X = Activation('relu')(X)\n",
    "\n",
    "    # Third component of main path (≈2 lines)\n",
    "    X = Conv2D(filters =F3, kernel_size =(1, 1), strides = (1,1), padding = 'valid', name = conv_name_base + '2c', kernel_initializer = keras.initializers.glorot_uniform(seed=0))(X)\n",
    "    X = BatchNormalization(axis = 3, name = bn_name_base + '2c')(X)\n",
    "\n",
    "    ##### SHORTCUT PATH #### (≈2 lines)\n",
    "    X_shortcut = Conv2D(filters =F3, kernel_size =(1, 1), strides = (s,s), padding = 'valid', name = conv_name_base + '1', kernel_initializer = keras.initializers.glorot_uniform(seed=0))(X_shortcut)\n",
    "    X_shortcut = BatchNormalization(axis = 3, name = bn_name_base + '1')(X_shortcut)\n",
    "\n",
    "    # Final step: Add shortcut value to main path, and pass it through a RELU activation (≈2 lines)\n",
    "    X = Add()([X, X_shortcut]) \n",
    "    X = Activation('relu')(X)\n",
    "    \n",
    " \n",
    "\n",
    "\n",
    "    \n",
    "    ### END CODE HERE ###\n",
    "    \n",
    "    return X"
   ]
  },
  {
   "cell_type": "markdown",
   "metadata": {
    "colab_type": "text",
    "id": "ZpH4csa8BRbU"
   },
   "source": [
    "#### 3. Structure of the ResNet \n",
    "![ResNet](files/picture1.png)\n",
    "(Andrew Ng: Convolutional Neural Networks - Coursera\n",
    "https://www.coursera.org/learn/convolutional-neural-networks/home/week/2)\n"
   ]
  },
  {
   "cell_type": "code",
   "execution_count": null,
   "metadata": {
    "colab": {},
    "colab_type": "code",
    "id": "oTaOBKArvUiO"
   },
   "outputs": [],
   "source": [
    "def ResNet30(X, resName):\n",
    "    \"\"\"\n",
    "    Implementation of the popular ResNet50 the following architecture:\n",
    "    CONV2D -> BATCHNORM -> RELU -> MAXPOOL -> CONVBLOCK -> IDBLOCK*2 -> CONVBLOCK -> IDBLOCK*3\n",
    "    -> CONVBLOCK -> IDBLOCK*5 -> CONVBLOCK -> IDBLOCK*2 -> AVGPOOL -> TOPLAYER\n",
    "\n",
    "    Arguments:\n",
    "    input_shape -- shape of the images of the dataset\n",
    "    classes -- integer, number of classes\n",
    "\n",
    "    Returns:\n",
    "    model -- a Model() instance in Keras\n",
    "    \"\"\"\n",
    "    \n",
    "    # Define the input as a tensor with shape input_shape\n",
    "    #X_in  = Input(input_shape)\n",
    "\n",
    "    \n",
    "    # Zero-Padding\n",
    "    X = ZeroPadding2D((3, 3))(X)\n",
    "    \n",
    "    # Stage 1\n",
    "    X = Conv2D(32, (7, 7), strides = (2, 2), name = 'conv1' + resName, kernel_initializer = keras.initializers.glorot_uniform(seed=0))(X)\n",
    "    X = BatchNormalization(axis = 3, name = 'bn_conv1'+ resName)(X)\n",
    "    X = Activation('relu')(X)\n",
    "    X = MaxPooling2D((3, 3), strides=(2, 2))(X)\n",
    "\n",
    "    # Stage 2\n",
    "    X = convolutional_block(X, resName, f = 3, filters = [2, 2, 16], stage = 2, block='a', s = 1)\n",
    "    X = identity_block(X, resName, 3, [2, 2, 16], stage=2, block='b')\n",
    "    #X = identity_block(X, 3, [8, 8, 64], stage=2, block='c')\n",
    "\n",
    "    ### START CODE HERE ###\n",
    "\n",
    "    # Stage 3 (≈4 lines)\n",
    "    X = convolutional_block(X, resName, f = 3, filters = [4, 4, 32], stage = 3, block='a', s = 2)\n",
    "    X = identity_block(X, resName, 3, [4, 4, 32], stage=3, block='b')\n",
    "    #X = identity_block(X, 3, [32, 32, 128], stage=3, block='c')\n",
    "    #X = identity_block(X, 3, [32, 32, 128], stage=3, block='d')\n",
    "\n",
    "    # Stage 4 (≈6 lines)\n",
    "    X = convolutional_block(X, resName, f = 3, filters = [8, 8, 64], stage = 4, block='a', s = 2)\n",
    "    X = identity_block(X, resName, 3, [8, 8, 64], stage=4, block='b')\n",
    "    #X = identity_block(X, resName,  3, [64, 64, 256], stage=4, block='c')\n",
    "    #X = identity_block(X, 3, [64, 64, 512], stage=4, block='e')\n",
    "    #X = identity_block(X, 3, [64, 64, 512], stage=4, block='f')\n",
    "\n",
    "    # Stage 5 (≈3 lines)\n",
    "    X = convolutional_block(X, resName, f = 3, filters = [16, 16, 64], stage = 5, block='a', s = 2)\n",
    "    X = identity_block(X, resName, 3, [16, 16, 64], stage=5, block='b')\n",
    "    #X = identity_block(X, 3, [256, 256, 1024], stage=5, block='c')\n",
    "\n",
    "    # AVGPOOL (≈1 line). Use \"X = AveragePooling2D(...)(X)\"\n",
    "    X = AveragePooling2D(pool_size=(2, 2), name = 'avg_pool'+resName)(X)\n",
    "    \n",
    "    ### END CODE HERE ###\n",
    "    \n",
    "    \n",
    "    # Create model\n",
    "    #model = Model(inputs = X_input, outputs = X, name='ResNet50')\n",
    "\n",
    "    return X\n"
   ]
  },
  {
   "cell_type": "markdown",
   "metadata": {},
   "source": [
    "#### 4. Build the model together: ResNet + Siamese\n",
    "![model structure](files/picutre4.jpeg)\n",
    "(https://towardsdatascience.com/one-shot-learning-with-siamese-networks-using-keras-17f34e75bb3d)"
   ]
  },
  {
   "cell_type": "code",
   "execution_count": null,
   "metadata": {
    "colab": {},
    "colab_type": "code",
    "id": "wTxyUdnEivlL"
   },
   "outputs": [],
   "source": [
    "def Siamese(input_shape):\n",
    "\n",
    "    left_input = Input(input_shape)\n",
    "    right_input = Input(input_shape)\n",
    "    encoded_l = ResNet30(left_input, '_l')\n",
    "    encoded_r = ResNet30(right_input, '_r')\n",
    "    \n",
    "    # Add a customized layer to compute the absolute difference between the encodings\n",
    "    L1_layer = Lambda(lambda tensors:K.abs(tensors[0] - tensors[1]))\n",
    "    L1_distance = L1_layer([encoded_l, encoded_r])\n",
    "    X = AveragePooling2D(pool_size=(2, 2), name = 'avg_pool')(L1_distance)\n",
    "    X = Flatten()(X)\n",
    "    # Add a dense layer with a sigmoid unit to generate the similarity score\n",
    "    prediction = Dense(2,activation='softmax')(X)\n",
    "    \n",
    "    # Connect the inputs with the outputs\n",
    "    siamese_net = Model(inputs=[left_input,right_input],outputs=prediction)\n",
    "    \n",
    "    return siamese_net \n",
    "\n",
    "    \n",
    "\n",
    "\n",
    "    \n",
    "\n",
    "model = Siamese(input_shape = (128, 600, 1))"
   ]
  },
  {
   "cell_type": "code",
   "execution_count": null,
   "metadata": {
    "colab": {},
    "colab_type": "code",
    "id": "g8os1G5-xFQL"
   },
   "outputs": [],
   "source": [
    "model.compile(optimizer='adam', loss='binary_crossentropy', metrics=['accuracy'])"
   ]
  },
  {
   "cell_type": "markdown",
   "metadata": {},
   "source": [
    "#### 5. train the model with training data"
   ]
  },
  {
   "cell_type": "code",
   "execution_count": null,
   "metadata": {
    "colab": {
     "base_uri": "https://localhost:8080/",
     "height": 472
    },
    "colab_type": "code",
    "id": "glo1xFm7zGbB",
    "outputId": "d57ddab8-05e0-45d5-8c35-851b905d90c9"
   },
   "outputs": [],
   "source": [
    "model.fit(X_train_pair, Y_train, epochs = 12, batch_size = 1)"
   ]
  },
  {
   "cell_type": "markdown",
   "metadata": {},
   "source": [
    "#### 6. Evaluate the model with test data"
   ]
  },
  {
   "cell_type": "code",
   "execution_count": null,
   "metadata": {
    "colab": {
     "base_uri": "https://localhost:8080/",
     "height": 72
    },
    "colab_type": "code",
    "id": "fJmw3YTO1bth",
    "outputId": "9909e094-0eb4-49cc-badb-428e5a25bb0f"
   },
   "outputs": [],
   "source": [
    "preds = model.evaluate(X_test_pair, Y_test)\n",
    "print (\"Loss = \" + str(preds[0]))\n",
    "print (\"Test Accuracy = \" + str(preds[1]))"
   ]
  },
  {
   "cell_type": "markdown",
   "metadata": {},
   "source": [
    "#### 7. Save the model"
   ]
  },
  {
   "cell_type": "code",
   "execution_count": null,
   "metadata": {
    "colab": {},
    "colab_type": "code",
    "id": "eyJcZg3g2G1o"
   },
   "outputs": [],
   "source": [
    "model.save('Res_Siamese_batch8.hd5')"
   ]
  },
  {
   "cell_type": "markdown",
   "metadata": {},
   "source": [
    "===============================\n",
    "------\n",
    "# Summary"
   ]
  },
  {
   "cell_type": "markdown",
   "metadata": {},
   "source": [
    "1. Validation result: \n",
    "    Train Accuracy = 0.9721\n",
    "    Test Accuracy = 0.8 > **OVERFITTING！**\n",
    "2. How to improve:\n",
    "    - More trining data. A compliacted CNN model like ResNet needs at least 5000 (the more the better) sets of data. Now we have however only ~800.\n",
    "    - Change the loss function. Currently it is absolute distance)\n",
    "    - Fine tune Hyperparameters"
   ]
  }
 ],
 "metadata": {
  "colab": {
   "collapsed_sections": [],
   "name": "ResNet_Siamese.ipynb",
   "provenance": []
  },
  "kernelspec": {
   "display_name": "Python 2",
   "language": "python",
   "name": "python2"
  },
  "language_info": {
   "codemirror_mode": {
    "name": "ipython",
    "version": 2
   },
   "file_extension": ".py",
   "mimetype": "text/x-python",
   "name": "python",
   "nbconvert_exporter": "python",
   "pygments_lexer": "ipython2",
   "version": "2.7.13"
  }
 },
 "nbformat": 4,
 "nbformat_minor": 1
}
