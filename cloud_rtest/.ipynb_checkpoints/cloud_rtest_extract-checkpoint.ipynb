{
 "cells": [
  {
   "cell_type": "code",
   "execution_count": 28,
   "metadata": {},
   "outputs": [],
   "source": [
    "# coding: utf-8\n",
    "import re\n",
    "import os\n",
    "import shutil\n",
    "from os import listdir\n",
    "from os.path import isfile, join\n",
    "import pandas as pd"
   ]
  },
  {
   "cell_type": "code",
   "execution_count": 29,
   "metadata": {},
   "outputs": [],
   "source": [
    "with open('regression_tester_audi_CVT_Azure_print.txt', 'r',errors='ignore',encoding='utf-8') as log_file_fh:\n",
    "    lines = log_file_fh.read().splitlines()\n",
    "log_file_fh.close()\n",
    "    #print(lines[0][:6])\n",
    "        \n",
    "  "
   ]
  },
  {
   "cell_type": "code",
   "execution_count": 30,
   "metadata": {},
   "outputs": [],
   "source": [
    "lan=[]\n",
    "input_text = []\n",
    "tar_pcm = []\n",
    "ref_pcm=[]\n",
    "work_path = 'c:\\_projects\\mib2plus-connected\\dev'"
   ]
  },
  {
   "cell_type": "code",
   "execution_count": 31,
   "metadata": {},
   "outputs": [
    {
     "name": "stdout",
     "output_type": "stream",
     "text": [
      "326 326 \n",
      "ref: tts_regression\\GED_Ina\\baseline\\vocs7.3.3\\gednewsregression20_ref.pcm tar: tts_regression\\GED_Ina\\impact_test\\..\\baseline\\Audi_Azure_CVT\\gednewsregression20.pcm\n"
     ]
    }
   ],
   "source": [
    "for i in range(len(lines)):\n",
    "    if lines[i][:6] == 'INPUT ':\n",
    "        if lines[i+3][:8] == 'FAILURE:':\n",
    "            lan.append(lines[i][6:9])\n",
    "            input_text.append(lines[i][11:])\n",
    "            \n",
    "            ref_pcm.append(lines[i+4].split('\\\\..\\\\..\\\\')[1])\n",
    "            tar_pcm.append(lines[i+5].split('\\\\..\\\\..\\\\')[1])\n",
    "            \n",
    "        i += 6\n",
    "    else:\n",
    "        i += 1 \n",
    "print(len(lan), len(input_text),'\\nref: '+ref_pcm[0], 'tar: '+tar_pcm[0])"
   ]
  },
  {
   "cell_type": "code",
   "execution_count": 32,
   "metadata": {},
   "outputs": [
    {
     "ename": "SyntaxError",
     "evalue": "unexpected character after line continuation character (<ipython-input-32-bfac29f3c46c>, line 1)",
     "output_type": "error",
     "traceback": [
      "\u001b[1;36m  File \u001b[1;32m\"<ipython-input-32-bfac29f3c46c>\"\u001b[1;36m, line \u001b[1;32m1\u001b[0m\n\u001b[1;33m    c:\\_projects\\mib2plus-connected\\dev\\tts_regression\\GED_Ina\\baseline\\Audi_Azure_CVT\\youtube_ref.pcm\u001b[0m\n\u001b[1;37m                                                                                                      ^\u001b[0m\n\u001b[1;31mSyntaxError\u001b[0m\u001b[1;31m:\u001b[0m unexpected character after line continuation character\n"
     ]
    }
   ],
   "source": [
    "c:\\_projects\\mib2plus-connected\\dev\\tts_regression\\GED_Ina\\baseline\\Audi_Azure_CVT\\youtube_ref.pcm\n",
    "    =HYPERLINK(\"soundfiles\\\"&D59&\".wav\";\"open\")"
   ]
  },
  {
   "cell_type": "code",
   "execution_count": 33,
   "metadata": {},
   "outputs": [],
   "source": [
    "df=pd.DataFrame({'language':lan, 'input':input_text,'ref':ref_pcm, 'tar':tar_pcm})"
   ]
  },
  {
   "cell_type": "code",
   "execution_count": 34,
   "metadata": {},
   "outputs": [
    {
     "name": "stdout",
     "output_type": "stream",
     "text": [
      "=HYPERLINK(\"c:\\_projects\\mib2plus-connected\\devtts_regression\\GED_Ina\\baseline\\vocs7.3.3\\gednewsregression20_ref.pcm\";\"open\")\n"
     ]
    }
   ],
   "source": [
    "def wav_link(pcm):\n",
    "    #wav = work_path  + pcm[:-3] + 'wav'\n",
    "    wav = work_path  + pcm\n",
    "    link = '=HYPERLINK(\"'+  wav+ '\";\"open\")'\n",
    "    return link\n",
    "\n",
    "a = wav_link(ref_pcm[0])\n",
    "print(a)\n",
    "    "
   ]
  },
  {
   "cell_type": "code",
   "execution_count": 37,
   "metadata": {},
   "outputs": [
    {
     "name": "stdout",
     "output_type": "stream",
     "text": [
      "304    =HYPERLINK(\"c:\\_projects\\mib2plus-connected\\de...\n",
      "305    =HYPERLINK(\"c:\\_projects\\mib2plus-connected\\de...\n",
      "306    =HYPERLINK(\"c:\\_projects\\mib2plus-connected\\de...\n",
      "307    =HYPERLINK(\"c:\\_projects\\mib2plus-connected\\de...\n",
      "308    =HYPERLINK(\"c:\\_projects\\mib2plus-connected\\de...\n",
      "309    =HYPERLINK(\"c:\\_projects\\mib2plus-connected\\de...\n",
      "310    =HYPERLINK(\"c:\\_projects\\mib2plus-connected\\de...\n",
      "311    =HYPERLINK(\"c:\\_projects\\mib2plus-connected\\de...\n",
      "312    =HYPERLINK(\"c:\\_projects\\mib2plus-connected\\de...\n",
      "313    =HYPERLINK(\"c:\\_projects\\mib2plus-connected\\de...\n",
      "314    =HYPERLINK(\"c:\\_projects\\mib2plus-connected\\de...\n",
      "315    =HYPERLINK(\"c:\\_projects\\mib2plus-connected\\de...\n",
      "316    =HYPERLINK(\"c:\\_projects\\mib2plus-connected\\de...\n",
      "317    =HYPERLINK(\"c:\\_projects\\mib2plus-connected\\de...\n",
      "318    =HYPERLINK(\"c:\\_projects\\mib2plus-connected\\de...\n",
      "319    =HYPERLINK(\"c:\\_projects\\mib2plus-connected\\de...\n",
      "320    =HYPERLINK(\"c:\\_projects\\mib2plus-connected\\de...\n",
      "321    =HYPERLINK(\"c:\\_projects\\mib2plus-connected\\de...\n",
      "322    =HYPERLINK(\"c:\\_projects\\mib2plus-connected\\de...\n",
      "323    =HYPERLINK(\"c:\\_projects\\mib2plus-connected\\de...\n",
      "324    =HYPERLINK(\"c:\\_projects\\mib2plus-connected\\de...\n",
      "325    =HYPERLINK(\"c:\\_projects\\mib2plus-connected\\de...\n",
      "Name: ref, dtype: object\n"
     ]
    }
   ],
   "source": [
    "mnc = df[df.language=='MNC']\n",
    "mnc.ref = df[df.language=='MNC'].apply(wav_link)\n",
    "print(mnc.ref)"
   ]
  },
  {
   "cell_type": "code",
   "execution_count": 25,
   "metadata": {},
   "outputs": [],
   "source": [
    "mnc.to_excel('mnc_rtest.xlsx',index=False,encoding='utf-8')"
   ]
  },
  {
   "cell_type": "code",
   "execution_count": 38,
   "metadata": {},
   "outputs": [],
   "source": [
    "mnc.to_csv('mnc_rtest.csv',sep=';' ,index=False,encoding='utf-8_sig')"
   ]
  },
  {
   "cell_type": "code",
   "execution_count": null,
   "metadata": {},
   "outputs": [],
   "source": []
  }
 ],
 "metadata": {
  "kernelspec": {
   "display_name": "Python 2",
   "language": "python",
   "name": "python2"
  },
  "language_info": {
   "codemirror_mode": {
    "name": "ipython",
    "version": 2
   },
   "file_extension": ".py",
   "mimetype": "text/x-python",
   "name": "python",
   "nbconvert_exporter": "python",
   "pygments_lexer": "ipython2",
   "version": "2.7.16"
  }
 },
 "nbformat": 4,
 "nbformat_minor": 2
}
