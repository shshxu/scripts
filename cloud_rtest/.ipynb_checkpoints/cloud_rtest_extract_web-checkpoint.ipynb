{
 "cells": [
  {
   "cell_type": "code",
   "execution_count": 59,
   "metadata": {},
   "outputs": [],
   "source": [
    "# coding: utf-8\n",
    "import re\n",
    "import pandas as pd\n",
    "import shutil\n",
    "import os\n",
    "import subprocess"
   ]
  },
  {
   "cell_type": "code",
   "execution_count": 60,
   "metadata": {},
   "outputs": [],
   "source": [
    "#####please add the language list\n",
    "lan_list = ['ENU']\n",
    "#####"
   ]
  },
  {
   "cell_type": "code",
   "execution_count": 61,
   "metadata": {},
   "outputs": [],
   "source": [
    "with open('c:\\_workspace\\cloud\\\\bat_files\\Audi_CVT_Azure.txt', 'r') as b:\n",
    "    lines =  b.readlines()\n",
    "b.close()\n",
    "bat_lines = []\n",
    "for line in lines:\n",
    "    for l in lan_list:\n",
    "        if l in line:\n",
    "            #print(line)\n",
    "            bat_lines.append(line)\n",
    "bat_file = 'C:\\_projects\\mib2plus-connected\\\\dev\\_tools\\\\cloud\\\\Audi_CVT_Azure_lan.bat'\n",
    "o = open(bat_file, 'w+')\n",
    "o.writelines(bat_lines)\n",
    "o.close()            \n",
    "#C:\\_projects\\mib3-audi\\dev\\_tools\\SPOT\\spot.exe convert2wav -i \"c:\\_projects\\mib2plus-connected\\dev\\tts_regression\\ITI_Alice-ML\\baseline\\Audi_Azure_CVT\""
   ]
  },
  {
   "cell_type": "code",
   "execution_count": 62,
   "metadata": {},
   "outputs": [
    {
     "name": "stdout",
     "output_type": "stream",
     "text": [
      "done\n"
     ]
    }
   ],
   "source": [
    "cmd = 'C:\\_projects\\\\mib2plus-connected\\\\dev\\\\_tools\\\\cloud\\\\Audi_CVT_Azure_lan.bat>C:\\_projects\\\\mib2plus-connected\\\\dev\\\\_tools\\\\cloudoutput_ju.txt'\n",
    "os.system(cmd)\n",
    "print('done')"
   ]
  },
  {
   "cell_type": "markdown",
   "metadata": {},
   "source": [
    "## run the regression test locally with SPOT?"
   ]
  },
  {
   "cell_type": "code",
   "execution_count": 24,
   "metadata": {},
   "outputs": [],
   "source": [
    "with open('c:\\_projects\\mib2plus-connected\\dev\\_tools\\cloud\\out.txt', 'r') as log_file_fh:\n",
    "    lines = [line.strip('\\n') for line in log_file_fh.readlines()]\n",
    "log_file_fh.close()\n",
    "#print(lines[:])"
   ]
  },
  {
   "cell_type": "code",
   "execution_count": 43,
   "metadata": {},
   "outputs": [],
   "source": [
    "lan=[]\n",
    "input_text = []\n",
    "file_name=[]\n",
    "mask_name = []\n",
    "voice=[]\n",
    "tar_pcm = []\n",
    "ref_pcm = []\n",
    "ref=[]\n",
    "tar=[]\n",
    "pcm = []\n",
    "ref_folder = []\n",
    "tar_folder=[]\n",
    "pcm_folder= []\n",
    "#work_path = 'c:\\_projects\\mib2plus-connected\\dev\\tts_regression'"
   ]
  },
  {
   "cell_type": "code",
   "execution_count": 44,
   "metadata": {},
   "outputs": [
    {
     "name": "stdout",
     "output_type": "stream",
     "text": [
      "('MNC', 'mncweatherregression41', 'weather')\n",
      "(12, 'Audi_Azure_CVT_Shanghai', 'Audi_Azure_CVT')\n"
     ]
    }
   ],
   "source": [
    "for i in range(len(lines)):\n",
    "    if lines[i][:8] == 'FAILURE:':\n",
    "        lan.append(lines[i-1].split(' ')[0])\n",
    "        file_name.append(lines[i-1].split(' ')[2])\n",
    "        mask_name.append(lines[i-1].split(' ')[1])\n",
    "        #pcm.append(lines[i+1].split('\\\\')[-1])\n",
    "        voice.append((lines[i+1].split('\\\\..\\\\..\\\\')[1]).split('\\\\')[1])\n",
    "        ref.append((lines[i+1].split('\\\\..\\\\..\\\\')[1]).split('\\\\')[-2])\n",
    "        tar.append(lines[i+2].split('\\\\..\\\\..\\\\')[1].split('\\\\')[-2])\n",
    "        i+=3\n",
    "print((lan[1]),(file_name[1]), mask_name[1],len(voice),ref[1],tar[1])\n",
    "    "
   ]
  },
  {
   "cell_type": "code",
   "execution_count": 38,
   "metadata": {},
   "outputs": [],
   "source": [
    "work_path = 'c:\\_projects\\\\mib2plus-connected\\\\dev\\\\tts_regression'"
   ]
  },
  {
   "cell_type": "code",
   "execution_count": 16,
   "metadata": {},
   "outputs": [
    {
     "name": "stdout",
     "output_type": "stream",
     "text": [
      "['MNC_Tian-Tian', 'ITI_Alice-ML']\n"
     ]
    }
   ],
   "source": []
  },
  {
   "cell_type": "code",
   "execution_count": 39,
   "metadata": {},
   "outputs": [
    {
     "name": "stdout",
     "output_type": "stream",
     "text": [
      "(['c:\\\\_projects\\\\mib2plus-connected\\\\dev\\\\tts_regression\\\\MNC_Tian-Tian\\\\baseline\\\\Audi_Azure_CVT_Shanghai\\\\mncweatherregression41_ref.wav'], ['c:\\\\_projects\\\\mib2plus-connected\\\\dev\\\\tts_regression\\\\MNC_Tian-Tian\\\\baseline\\\\Audi_Azure_CVT\\\\mncweatherregression41.wav'], ['c:\\\\_projects\\\\mib2plus-connected\\\\dev\\\\tts_regression\\\\MNC_Tian-Tian\\\\baseline\\\\Audi_Azure_CVT_Shanghai'], ['c:\\\\_projects\\\\mib2plus-connected\\\\dev\\\\tts_regression\\\\MNC_Tian-Tian\\\\baseline\\\\Audi_Azure_CVT'])\n"
     ]
    }
   ],
   "source": [
    "def wav_link(voice,ref,tar,f):\n",
    "    ref_f =  work_path+ '\\\\'+voice + '\\\\baseline'+'\\\\'+ref\n",
    "    tar_f = work_path+ '\\\\'+voice + '\\\\baseline'+'\\\\'+tar\n",
    "    if ref_f not in ref_folder:\n",
    "        ref_folder.append(ref_f)\n",
    "    if tar_f not in tar_folder:\n",
    "        tar_folder.append(tar_f)\n",
    "    ref_wav = work_path+ '\\\\'+voice + '\\\\baseline'+'\\\\'+ref+'\\\\'+ f + '_ref.wav'\n",
    "    tar_wav = work_path+ '\\\\'+voice + '\\\\baseline'+'\\\\'+tar+'\\\\'+ f + '.wav'\n",
    "    \n",
    "    #wav = work_path  +'\\\\'+ pcm\n",
    "    ref_pcm.append(ref_wav)\n",
    "    tar_pcm.append(tar_wav)\n",
    "    return ref_pcm,tar_pcm,ref_folder,tar_folder\n",
    "\n",
    "#print(wav_link(voice[1],ref[1],tar[1],file_name[1]))"
   ]
  },
  {
   "cell_type": "code",
   "execution_count": 45,
   "metadata": {},
   "outputs": [],
   "source": [
    "#run the wav_link function\n",
    "for i in range(len(lan)):\n",
    "    wav_link(voice[i],ref[i],tar[i],file_name[i])\n",
    "    \n",
    "#get the link to the pcm\n",
    "ref_link = ['=HYPERLINK(\"'+  r+ '\";\"open\")' for r in ref_pcm]\n",
    "tar_link= ['=HYPERLINK(\"'+  t+ '\";\"open\")' for t in tar_pcm]"
   ]
  },
  {
   "cell_type": "code",
   "execution_count": 52,
   "metadata": {},
   "outputs": [
    {
     "name": "stdout",
     "output_type": "stream",
     "text": [
      "c:\\_projects\\mib2plus-connected\\dev\\tts_regression\\MNC_Tian-Tian\\baseline\\Audi_Azure_CVT_Shanghai pcm to wav converted. \n",
      "\n"
     ]
    },
    {
     "ename": "KeyboardInterrupt",
     "evalue": "",
     "output_type": "error",
     "traceback": [
      "\u001b[1;31m---------------------------------------------------------------------------\u001b[0m",
      "\u001b[1;31mKeyboardInterrupt\u001b[0m                         Traceback (most recent call last)",
      "\u001b[1;32m<ipython-input-52-8fcb4c422b0d>\u001b[0m in \u001b[0;36m<module>\u001b[1;34m()\u001b[0m\n\u001b[0;32m      5\u001b[0m     \u001b[0mcmd\u001b[0m \u001b[1;33m=\u001b[0m \u001b[0mconv2wav\u001b[0m\u001b[1;33m+\u001b[0m\u001b[1;34m'\\\"'\u001b[0m \u001b[1;33m+\u001b[0m\u001b[0mn\u001b[0m \u001b[1;33m+\u001b[0m\u001b[1;34m'\\\"'\u001b[0m\u001b[1;33m+\u001b[0m\u001b[1;34m'\\npause'\u001b[0m\u001b[1;33m\u001b[0m\u001b[0m\n\u001b[0;32m      6\u001b[0m \u001b[1;31m#run the pcm2wav batch file:\u001b[0m\u001b[1;33m\u001b[0m\u001b[1;33m\u001b[0m\u001b[0m\n\u001b[1;32m----> 7\u001b[1;33m     \u001b[0mos\u001b[0m\u001b[1;33m.\u001b[0m\u001b[0msystem\u001b[0m\u001b[1;33m(\u001b[0m\u001b[0mcmd\u001b[0m\u001b[1;33m)\u001b[0m\u001b[1;33m\u001b[0m\u001b[0m\n\u001b[0m\u001b[0;32m      8\u001b[0m     \u001b[1;32mprint\u001b[0m\u001b[1;33m(\u001b[0m\u001b[0mn\u001b[0m \u001b[1;33m+\u001b[0m \u001b[1;34m' pcm to wav converted. \\n'\u001b[0m\u001b[1;33m)\u001b[0m\u001b[1;33m\u001b[0m\u001b[0m\n\u001b[0;32m      9\u001b[0m     \u001b[0mto_wav_cmd\u001b[0m\u001b[1;33m.\u001b[0m\u001b[0mappend\u001b[0m\u001b[1;33m(\u001b[0m\u001b[0mcmd\u001b[0m\u001b[1;33m)\u001b[0m\u001b[1;33m\u001b[0m\u001b[0m\n",
      "\u001b[1;31mKeyboardInterrupt\u001b[0m: "
     ]
    }
   ],
   "source": [
    "#creat bat to convert pcm to wav\n",
    "to_wav_cmd=[]\n",
    "conv2wav= 'C:\\_projects\\mib3-audi\\dev\\_tools\\SPOT\\spot.exe convert2wav -i' \n",
    "for n in (ref_folder+tar_folder):\n",
    "    cmd = conv2wav+'\\\"' +n +'\\\"'+'\\npause'\n",
    "#run the pcm2wav batch file:\n",
    "    os.system(cmd)\n",
    "    print(n + ' pcm to wav converted. \\n')\n",
    "    to_wav_cmd.append(cmd)\n",
    "\n",
    "#write the cmd lines to a batch file\n",
    "'''\n",
    "c = open('pcm_2_wav.bat', 'w+')\n",
    "c.writelines(to_wav_cmd)\n",
    "c.close()     \n",
    "'''"
   ]
  },
  {
   "cell_type": "code",
   "execution_count": 38,
   "metadata": {},
   "outputs": [],
   "source": [
    "df=pd.DataFrame({'language':lan,'file':file_name, 'mask':mask_name,'ref':ref_link,'tar':tar_link})\n",
    "#print(df)"
   ]
  },
  {
   "cell_type": "code",
   "execution_count": 39,
   "metadata": {},
   "outputs": [],
   "source": [
    "#save the csv file\n",
    "df.to_csv('cloud_rtest.csv',sep=';' ,index=False,encoding='utf-8_sig')"
   ]
  },
  {
   "cell_type": "code",
   "execution_count": 58,
   "metadata": {},
   "outputs": [],
   "source": [
    "for i in range(len(tar_pcm)):\n",
    "    o_path=tar_pcm[i][:-3]+'pcm'\n",
    "    n_path='c:\\_workspace\\cloud\\\\rtest\\\\new_ref'+'\\\\'+file_name[i]+'_ref.pcm'\n",
    "    shutil.copyfile(o_path,n_path)"
   ]
  },
  {
   "cell_type": "markdown",
   "metadata": {},
   "source": [
    "'''\n",
    "bat_file = 'C:\\_projects\\mib2plus-connected\\dev\\_tools\\cloud\\\\audi_cvt_azure.bat'\n",
    "with open(bat_file) as b:\n",
    "    b_lines = b.readlines()\n",
    "b.close()\n",
    "print(b_lines[:5])\n",
    "'''"
   ]
  },
  {
   "cell_type": "code",
   "execution_count": null,
   "metadata": {},
   "outputs": [],
   "source": []
  }
 ],
 "metadata": {
  "kernelspec": {
   "display_name": "Python 2",
   "language": "python",
   "name": "python2"
  },
  "language_info": {
   "codemirror_mode": {
    "name": "ipython",
    "version": 2
   },
   "file_extension": ".py",
   "mimetype": "text/x-python",
   "name": "python",
   "nbconvert_exporter": "python",
   "pygments_lexer": "ipython2",
   "version": "2.7.13"
  }
 },
 "nbformat": 4,
 "nbformat_minor": 2
}
